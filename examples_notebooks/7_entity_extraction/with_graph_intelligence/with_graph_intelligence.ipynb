{
 "cells": [
  {
   "cell_type": "code",
   "execution_count": 15,
   "id": "48a42e45-c196-4482-9203-831e37da8ab6",
   "metadata": {},
   "outputs": [],
   "source": [
    "# Copyright (c) 2024 Microsoft Corporation.\n",
    "# Licensed under the MIT License"
   ]
  },
  {
   "cell_type": "markdown",
   "id": "5f599f90-d1e2-4001-998c-8c778319142f",
   "metadata": {},
   "source": [
    "### with_graph_intelligence\n",
    "#### init csv file"
   ]
  },
  {
   "cell_type": "code",
   "execution_count": 16,
   "id": "55fc1630-3c60-4304-9beb-978957c8772f",
   "metadata": {},
   "outputs": [
    {
     "data": {
      "text/plain": [
       "'/media/gpt4-pdf-chatbot-langchain/graphrag/examples_notebooks/7_entity_extraction/with_graph_intelligence/input/'"
      ]
     },
     "execution_count": 16,
     "metadata": {},
     "output_type": "execute_result"
    }
   ],
   "source": [
    "# our fake dataset\n",
    "import asyncio\n",
    "from pathlib import Path\n",
    "import pandas as pd\n",
    "import os\n",
    "from graphrag.index.config import PipelineCSVInputConfig\n",
    "from graphrag.index.input import load_input\n",
    "init_dataset = pd.DataFrame([{\"author\": \"aufsnn\", \n",
    "                         \"message\": \"Apple Inc. is an American multinational technology company headquartered in Cupertino, California. Tim Cook is the CEO of Apple.\",\n",
    "                         \"date(yyyyMMddHHmmss)\": \"20240709182511\"\n",
    "                        },\n",
    "                        {\"author\": \"dmeck\", \n",
    "                         \"message\": \"hello!\", \n",
    "                         \"date(yyyyMMddHHmmss)\": \"20240709182511\"}])\n",
    "\n",
    "sample_data_dir = os.path.join(\n",
    "    Path().cwd(), \"input/\"\n",
    ")\n",
    "if not os.path.exists(sample_data_dir):\n",
    "    os.makedirs(sample_data_dir)\n",
    "init_dataset.to_csv(f'{sample_data_dir}/dataset.csv', index=False)\n",
    "sample_data_dir"
   ]
  },
  {
   "cell_type": "code",
   "execution_count": 17,
   "id": "c5de7b86-74b9-40a8-9627-55cd448d41be",
   "metadata": {},
   "outputs": [
    {
     "data": {
      "text/html": [
       "<div>\n",
       "<style scoped>\n",
       "    .dataframe tbody tr th:only-of-type {\n",
       "        vertical-align: middle;\n",
       "    }\n",
       "\n",
       "    .dataframe tbody tr th {\n",
       "        vertical-align: top;\n",
       "    }\n",
       "\n",
       "    .dataframe thead th {\n",
       "        text-align: right;\n",
       "    }\n",
       "</style>\n",
       "<table border=\"1\" class=\"dataframe\">\n",
       "  <thead>\n",
       "    <tr style=\"text-align: right;\">\n",
       "      <th></th>\n",
       "      <th>author</th>\n",
       "      <th>message</th>\n",
       "      <th>date(yyyyMMddHHmmss)</th>\n",
       "      <th>id</th>\n",
       "      <th>source</th>\n",
       "      <th>text</th>\n",
       "      <th>title</th>\n",
       "      <th>timestamp</th>\n",
       "      <th>year</th>\n",
       "      <th>month</th>\n",
       "      <th>day</th>\n",
       "      <th>hour</th>\n",
       "      <th>minute</th>\n",
       "      <th>second</th>\n",
       "    </tr>\n",
       "  </thead>\n",
       "  <tbody>\n",
       "    <tr>\n",
       "      <th>0</th>\n",
       "      <td>aufsnn</td>\n",
       "      <td>Apple Inc. is an American multinational techno...</td>\n",
       "      <td>20240709182511</td>\n",
       "      <td>a9c886cbbc2905f65301a9215514ed0b</td>\n",
       "      <td>aufsnn</td>\n",
       "      <td>Apple Inc. is an American multinational techno...</td>\n",
       "      <td>Apple Inc. is an American multinational techno...</td>\n",
       "      <td>2024-07-09 18:25:11</td>\n",
       "      <td>2024</td>\n",
       "      <td>7</td>\n",
       "      <td>9</td>\n",
       "      <td>18</td>\n",
       "      <td>25</td>\n",
       "      <td>11</td>\n",
       "    </tr>\n",
       "    <tr>\n",
       "      <th>1</th>\n",
       "      <td>dmeck</td>\n",
       "      <td>hello!</td>\n",
       "      <td>20240709182511</td>\n",
       "      <td>409342b4e5e4bae7204236f4bf214055</td>\n",
       "      <td>dmeck</td>\n",
       "      <td>hello!</td>\n",
       "      <td>hello!</td>\n",
       "      <td>2024-07-09 18:25:11</td>\n",
       "      <td>2024</td>\n",
       "      <td>7</td>\n",
       "      <td>9</td>\n",
       "      <td>18</td>\n",
       "      <td>25</td>\n",
       "      <td>11</td>\n",
       "    </tr>\n",
       "  </tbody>\n",
       "</table>\n",
       "</div>"
      ],
      "text/plain": [
       "   author                                            message  \\\n",
       "0  aufsnn  Apple Inc. is an American multinational techno...   \n",
       "1   dmeck                                             hello!   \n",
       "\n",
       "   date(yyyyMMddHHmmss)                                id  source  \\\n",
       "0        20240709182511  a9c886cbbc2905f65301a9215514ed0b  aufsnn   \n",
       "1        20240709182511  409342b4e5e4bae7204236f4bf214055   dmeck   \n",
       "\n",
       "                                                text  \\\n",
       "0  Apple Inc. is an American multinational techno...   \n",
       "1                                             hello!   \n",
       "\n",
       "                                               title           timestamp  \\\n",
       "0  Apple Inc. is an American multinational techno... 2024-07-09 18:25:11   \n",
       "1                                             hello! 2024-07-09 18:25:11   \n",
       "\n",
       "   year  month  day  hour  minute  second  \n",
       "0  2024      7    9    18      25      11  \n",
       "1  2024      7    9    18      25      11  "
      ]
     },
     "execution_count": 17,
     "metadata": {},
     "output_type": "execute_result"
    }
   ],
   "source": [
    "\n",
    "shared_dataset = await load_input(\n",
    "        PipelineCSVInputConfig(\n",
    "            file_pattern=\".*\\\\.csv$\",\n",
    "            base_dir=sample_data_dir,\n",
    "            source_column=\"author\",\n",
    "            text_column=\"message\",\n",
    "            timestamp_column=\"date(yyyyMMddHHmmss)\",\n",
    "            timestamp_format=\"%Y%m%d%H%M%S\",\n",
    "            title_column=\"message\",\n",
    "        ),\n",
    "    )\n",
    "# We're cheap, and this is an example, lets just do 10\n",
    "dataset = shared_dataset.head(10)\n",
    "dataset"
   ]
  },
  {
   "cell_type": "markdown",
   "id": "345dfc65-e5fa-4b67-b6cb-d38da1248e86",
   "metadata": {},
   "source": [
    "#### difine workflow   entity_extraction\n"
   ]
  },
  {
   "cell_type": "code",
   "execution_count": 18,
   "id": "76496f62-c556-4a9b-8ffe-565971dc6487",
   "metadata": {},
   "outputs": [],
   "source": [
    "# Copyright (c) 2024 Microsoft Corporation.\n",
    "# Licensed under the MIT License\n",
    "from graphrag.index.workflows import WorkflowDefinitions\n",
    "\n",
    "custom_workflows: WorkflowDefinitions = {\n",
    "    \"entity_extraction\": lambda config: [\n",
    "        {\n",
    "            \"verb\": \"entity_extract\",\n",
    "            \"args\": {\n",
    "                \"column\": \"message\",\n",
    "                \"id_column\": \"author\",\n",
    "                \"async_mode\": \"asyncio\",\n",
    "                \"strategy\": config.get(\n",
    "                    \"strategy\"\n",
    "                ),\n",
    "                \"to\": \"entities\",\n",
    "                \"graph_to\": \"entity_graph\",\n",
    "            },\n",
    "        }\n",
    "    ]\n",
    "}\n"
   ]
  },
  {
   "cell_type": "markdown",
   "id": "adc8de38-91b2-426c-8d4a-b5145c07137c",
   "metadata": {},
   "source": [
    "#### create pipeline workflows file"
   ]
  },
  {
   "cell_type": "code",
   "execution_count": 19,
   "id": "d2a80ff1-940a-4b34-8178-3c417ac1f999",
   "metadata": {},
   "outputs": [],
   "source": [
    "import pandas as pd\n",
    "import os\n",
    "from pathlib import Path\n",
    "\n",
    "os.environ[\"EXAMPLE_OPENAI_API_KEY\"] = os.environ.get(\"ZHIPUAI_API_KEY\")\n",
    "\n",
    "os.environ[\"EXAMPLE_OPENAI_API_BASE\"] = 'https://open.bigmodel.cn/api/paas/v4'\n",
    "\n",
    "os.environ[\"EXAMPLE_OPENAI_MODEL\"] = 'glm-4'\n",
    "\n",
    "\n",
    "os.environ[\"EXAMPLE_OPENAI_TEMPERATURE\"] = '0.1'\n",
    "os.environ[\"EXAMPLE_OPENAI_TOP_P\"] = '0.9'\n",
    "\n",
    "\n",
    "PIPELINE_YAML = \"\"\"\n",
    "workflows:\n",
    "  - name: \"entity_extraction\"\n",
    "    config: \n",
    "        strategy:\n",
    "          type: \"graph_intelligence\"\n",
    "          llm:\n",
    "            type: \"openai_chat\"\n",
    "    \n",
    "            # create a .env file in the same directory as this pipeline.yml file\n",
    "            # end add the following lines to it: \n",
    "            api_key: !ENV ${EXAMPLE_OPENAI_API_KEY:None} # None is the default\n",
    "            api_base: !ENV ${EXAMPLE_OPENAI_API_BASE:None} # None is the default\n",
    "            model: !ENV ${EXAMPLE_OPENAI_MODEL:gpt-3.5-turbo} # gpt-3.5-turbo is the default\n",
    "            max_tokens: !ENV ${EXAMPLE_OPENAI_MAX_TOKENS:2500} # 2500 is the default\n",
    "            temperature: !ENV ${EXAMPLE_OPENAI_TEMPERATURE:0} # 0 is the default\n",
    "            top_p: !ENV ${EXAMPLE_OPENAI_TOP_P:1} # 1 is the default\n",
    "\n",
    " \n",
    "\"\"\"\n",
    "pipeline_file =  Path().cwd() / \"pipeline.yaml\"\n",
    "with pipeline_file.open(\"w\") as file:\n",
    "    file.write(PIPELINE_YAML)\n",
    "    "
   ]
  },
  {
   "cell_type": "code",
   "execution_count": 20,
   "id": "2a6d60bf-b3cc-4471-97f0-cdc2ed0e1544",
   "metadata": {},
   "outputs": [
    {
     "data": {
      "text/plain": [
       "'/media/gpt4-pdf-chatbot-langchain/graphrag/examples_notebooks/7_entity_extraction/with_graph_intelligence/pipeline.yaml'"
      ]
     },
     "execution_count": 20,
     "metadata": {},
     "output_type": "execute_result"
    }
   ],
   "source": [
    "# Load your config without the input section\n",
    "config_path = str(pipeline_file)\n",
    "config_path"
   ]
  },
  {
   "cell_type": "markdown",
   "id": "9eaecf99-1045-415d-85d7-3ee4735770a4",
   "metadata": {},
   "source": [
    "#### start pipeline entity_extraction workflow\n",
    "\n",
    "Grab the last result from the pipeline, should be our entity extraction\n"
   ]
  },
  {
   "cell_type": "code",
   "execution_count": 21,
   "id": "901f945c-0ed7-4a66-a5a0-1e1439775dcd",
   "metadata": {},
   "outputs": [
    {
     "name": "stdout",
     "output_type": "stream",
     "text": [
      "[[{'name': '\"APPLE INC.\"', 'type': '\"ORGANIZATION\"', 'description': '\"Apple Inc. is a multinational technology company with its headquarters in Cupertino, California.\"', 'source_id': 'aufsnn'}, {'name': '\"TIM COOK\"', 'type': '\"PERSON\"', 'description': '\"Tim Cook is the CEO of Apple Inc., indicating he is a key figure within the organization.\"', 'source_id': 'aufsnn'}, {'name': '\"CUPERTINO, CALIFORNIA\"', 'type': '\"GEO\"', 'description': '\"Cupertino, California is the location of the headquarters for Apple Inc.\"', 'source_id': 'aufsnn'}], [{'name': '\"HELLO!\"', 'type': '\"CONCEPT\"', 'description': '\"hello! is an exclamation of greeting or attention, though not fitting the provided entity types, it is the only distinct element in the text.\"', 'source_id': 'dmeck'}]]\n"
     ]
    }
   ],
   "source": [
    "from graphrag.index import run_pipeline_with_config\n",
    "\n",
    "tables = []\n",
    "async for table in run_pipeline_with_config(\n",
    "    config_or_path=config_path, dataset=dataset,additional_workflows=custom_workflows\n",
    "):\n",
    "    tables.append(table)\n",
    "pipeline_result = tables[-1]\n",
    "\n",
    "# Print the entities.  This will be a row for each text unit, each with a list of entities,\n",
    "# This should look pretty close to the python version, but since we're using an LLM\n",
    "# it will be a little different depending on how it feels about the text\n",
    "if pipeline_result.result is not None:\n",
    "    print(pipeline_result.result[\"entities\"].to_list())\n",
    "else:\n",
    "    print(\"No results!\")"
   ]
  },
  {
   "cell_type": "code",
   "execution_count": 4,
   "id": "1e54b95b-7f8f-4c26-8ee7-a31aadb6e6e9",
   "metadata": {},
   "outputs": [
    {
     "data": {
      "image/png": "[encoded data removed]",
      "text/plain": [
       "<Figure size 1200x800 with 1 Axes>"
      ]
     },
     "metadata": {},
     "output_type": "display_data"
    }
   ],
   "source": [
    "import matplotlib.pyplot as plt\n",
    "from typing import Any, cast\n",
    "import os\n",
    "from pathlib import Path\n",
    "import networkx as nx\n",
    "import pandas as pd\n",
    "from graphrag.index.utils import load_graph\n",
    "from matplotlib import rcParams\n",
    "import matplotlib.font_manager as fm\n",
    "\n",
    "output_data_dir = os.path.join(\n",
    "    Path().cwd(), \"output/\"\n",
    ")\n",
    "\n",
    "report_df = pd.read_parquet(f\"{output_data_dir}/entity_extraction.parquet\")\n",
    "\n",
    "G = load_graph(cast(str | nx.Graph, report_df['entity_graph'][0]))\n",
    "\n",
    " # Set the font properties\n",
    "rcParams['font.family'] = 'sans-serif'\n",
    "rcParams['font.sans-serif'] = ['SimHei']  # Use 'Noto Sans CJK' or another font that supports Chinese characters\n",
    "\n",
    "# Draw the graph\n",
    "plt.figure(figsize=(12, 8))\n",
    "nx.draw(G, with_labels=True, node_color='skyblue', node_size=3000, edge_color='gray', font_size=15, font_weight='bold')\n",
    "plt.title('GraphML Visualization', size=20)\n",
    "plt.show()\n"
   ]
  },
  {
   "cell_type": "code",
   "execution_count": null,
   "id": "4c06c577-59e8-4de4-a4c6-01438f6152e9",
   "metadata": {},
   "outputs": [],
   "source": []
  }
 ],
 "metadata": {
  "kernelspec": {
   "display_name": "Python 3 (ipykernel)",
   "language": "python",
   "name": "python3"
  },
  "language_info": {
   "codemirror_mode": {
    "name": "ipython",
    "version": 3
   },
   "file_extension": ".py",
   "mimetype": "text/x-python",
   "name": "python",
   "nbconvert_exporter": "python",
   "pygments_lexer": "ipython3",
   "version": "3.10.0"
  }
 },
 "nbformat": 4,
 "nbformat_minor": 5
}
