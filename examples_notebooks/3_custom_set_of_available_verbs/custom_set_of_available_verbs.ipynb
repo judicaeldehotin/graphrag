{
 "cells": [
  {
   "cell_type": "code",
   "execution_count": 1,
   "id": "f275c843-1302-4d9d-b551-2ea01caed58f",
   "metadata": {},
   "outputs": [],
   "source": [
    "# Copyright (c) 2024 Microsoft Corporation.\n",
    "# Licensed under the MIT License"
   ]
  },
  {
   "cell_type": "markdown",
   "id": "69d4504a-ad6c-4e40-a6d7-b95f3997d9a8",
   "metadata": {},
   "source": [
    "### verbs custom\n",
    "\n",
    "#### difine verbs str_append function\n",
    "we typically use \"column\" as the input column name and \"to\" as the output column name, but you can use whatever you want \n",
    "just as long as the \"args\" in the workflow reference match the function signature"
   ]
  },
  {
   "cell_type": "code",
   "execution_count": 2,
   "id": "48b5e9d1-cc94-4630-8ab7-f52c2283f236",
   "metadata": {},
   "outputs": [],
   "source": [
    "# Our fake dataset\n",
    "import pandas as pd\n",
    "dataset = pd.DataFrame([{\"col1\": 2, \"col2\": 4}, {\"col1\": 5, \"col2\": 10}])\n"
   ]
  },
  {
   "cell_type": "code",
   "execution_count": 3,
   "id": "ddd0e653-ba33-47eb-bbb9-ce33d9640e11",
   "metadata": {},
   "outputs": [],
   "source": [
    "\n",
    "from datashaper import TableContainer, VerbInput\n",
    "\n",
    "\n",
    "def str_append(\n",
    "    input: VerbInput, source_column: str, target_column: str, string_to_append: str,\n",
    "    **_kwargs: dict,\n",
    "):\n",
    "    \"\"\"A custom verb that appends a string to a column\"\"\"\n",
    "    # by convention, we typically use \"column\" as the input column name and \"to\" as the output column name, but you can use whatever you want\n",
    "    # just as long as the \"args\" in the workflow reference match the function signature\n",
    "    input_data = input.get_input()\n",
    "    output_df = input_data.copy()\n",
    "    output_df[target_column] = output_df[source_column].apply(\n",
    "        lambda x: f\"{x}{string_to_append}\"\n",
    "    )\n",
    "    return TableContainer(table=output_df)\n",
    "\n",
    "\n",
    "custom_verbs = {\n",
    "    \"str_append\": str_append,\n",
    "}\n"
   ]
  },
  {
   "cell_type": "markdown",
   "id": "d46cfcd8-886c-4cc4-a94f-e2d18fe40aa8",
   "metadata": {},
   "source": [
    "#### use file create pipeline str_append  verb"
   ]
  },
  {
   "cell_type": "code",
   "execution_count": 4,
   "id": "364ed05b-e089-4b12-882d-eee8648110e6",
   "metadata": {},
   "outputs": [],
   "source": [
    "import pandas as pd\n",
    "\n",
    "from pathlib import Path\n",
    "\n",
    "PIPELINE_YAML = \"\"\"\n",
    "workflows:\n",
    " - steps:\n",
    "    - verb: \"str_append\"  # should be the key that you pass to the custom_verbs dict below\n",
    "      args: \n",
    "        source_column: \"col1\"\n",
    "        target_column: \"col_1_custom\"\n",
    "        string_to_append: \" - custom verb\"\n",
    "\"\"\"\n",
    "pipeline_file =  Path().cwd() / \"pipeline.yaml\"\n",
    "with pipeline_file.open(\"w\") as file:\n",
    "    file.write(PIPELINE_YAML)\n",
    "    "
   ]
  },
  {
   "cell_type": "code",
   "execution_count": 5,
   "id": "dcb3b77f-c934-42a7-82a0-27bd787c66e9",
   "metadata": {},
   "outputs": [
    {
     "data": {
      "text/plain": [
       "'/media/gpt4-pdf-chatbot-langchain/graphrag/examples_notebooks/3_custom_set_of_available_verbs/pipeline.yaml'"
      ]
     },
     "execution_count": 5,
     "metadata": {},
     "output_type": "execute_result"
    }
   ],
   "source": [
    "# Load your config without the input section\n",
    "config_path = str(pipeline_file)\n",
    "config_path"
   ]
  },
  {
   "cell_type": "markdown",
   "id": "a91be701-3be0-4e76-89d7-ff30bbfa9d94",
   "metadata": {},
   "source": [
    "\n",
    "\n",
    "### add  custom verbs to use for the pipeline additional_verbs"
   ]
  },
  {
   "cell_type": "code",
   "execution_count": 6,
   "id": "e4f14e1d-404e-4174-adab-fae7b4e41420",
   "metadata": {},
   "outputs": [
    {
     "name": "stdout",
     "output_type": "stream",
     "text": [
      "   col1  col2     col_1_custom\n",
      "0     2     4  2 - custom verb\n",
      "1     5    10  5 - custom verb\n"
     ]
    }
   ],
   "source": [
    "\n",
    "from graphrag.index import run_pipeline_with_config\n",
    "\n",
    "outputs = []\n",
    "async for output in run_pipeline_with_config(\n",
    "    config_or_path=config_path, dataset=dataset, \n",
    "    additional_verbs=custom_verbs,\n",
    "):\n",
    "    outputs.append(output)\n",
    "pipeline_result = outputs[-1]\n",
    "\n",
    "if pipeline_result.result is not None:\n",
    "    # Should look something like this, which should be identical to the python example:\n",
    "    #    col1  col2  col_1_custom\n",
    "    # 0     2     4  2 - custom verb\n",
    "    # 1     5    10  5 - custom verb\n",
    "    print(pipeline_result.result)\n",
    "else:\n",
    "    print(\"No results!\")"
   ]
  },
  {
   "cell_type": "markdown",
   "id": "0461770c-6b26-4e68-b86a-0a19e1cafde0",
   "metadata": {},
   "source": [
    "#### use Python API custom_verbs pipeline  str_append  verb"
   ]
  },
  {
   "cell_type": "code",
   "execution_count": 7,
   "id": "1452a2ea-2456-48f8-ad9a-7ad493392020",
   "metadata": {},
   "outputs": [],
   "source": [
    "from graphrag.index.config import PipelineWorkflowReference\n",
    "workflows: list[PipelineWorkflowReference] = [\n",
    "    PipelineWorkflowReference(\n",
    "        name=\"my_workflow\",\n",
    "        steps=[\n",
    "            {\n",
    "                \"verb\": \"str_append\",  # should be the key that you pass to the custom_verbs dict below\n",
    "                \"args\": {\n",
    "                    \"source_column\": \"col1\",  # from above\n",
    "                    \"target_column\": \"col_1_custom\",  # new column name,\n",
    "                    \"string_to_append\": \" - custom verb\",  # The string to append to the column\n",
    "                },\n",
    "                # Since we're trying to act on the default input, we don't need explicitly to specify an input\n",
    "            }\n",
    "        ],\n",
    "    ),\n",
    "]\n"
   ]
  },
  {
   "cell_type": "markdown",
   "id": "68532b15-f295-447f-9450-e63e28b7738b",
   "metadata": {},
   "source": [
    "##### Run the pipeline"
   ]
  },
  {
   "cell_type": "code",
   "execution_count": 8,
   "id": "885e58aa-f557-4ccc-86e3-fc8ded079062",
   "metadata": {},
   "outputs": [
    {
     "name": "stdout",
     "output_type": "stream",
     "text": [
      "   col1  col2     col_1_custom\n",
      "0     2     4  2 - custom verb\n",
      "1     5    10  5 - custom verb\n"
     ]
    }
   ],
   "source": [
    "from graphrag.index import run_pipeline \n",
    "\n",
    "# Run the pipeline\n",
    "outputs = []\n",
    "async for output in run_pipeline(\n",
    "    dataset=dataset,\n",
    "    workflows=workflows,\n",
    "    additional_verbs=custom_verbs,\n",
    "):\n",
    "    outputs.append(output)\n",
    "\n",
    "# Find the result from the workflow we care about\n",
    "pipeline_result = next(\n",
    "    (output for output in outputs if output.workflow == \"my_workflow\"), None\n",
    ")\n",
    "\n",
    "if pipeline_result is not None and pipeline_result.result is not None:\n",
    "    # Should look something like this:\n",
    "    #    col1  col2     col_1_custom\n",
    "    # 0     2     4  2 - custom verb\n",
    "    # 1     5    10  5 - custom verb\n",
    "    print(pipeline_result.result)\n",
    "else:\n",
    "    print(\"No results!\")"
   ]
  },
  {
   "cell_type": "code",
   "execution_count": null,
   "id": "cd2fd060-9607-442e-98b9-da51060e2594",
   "metadata": {},
   "outputs": [],
   "source": []
  }
 ],
 "metadata": {
  "kernelspec": {
   "display_name": "Python 3 (ipykernel)",
   "language": "python",
   "name": "python3"
  },
  "language_info": {
   "codemirror_mode": {
    "name": "ipython",
    "version": 3
   },
   "file_extension": ".py",
   "mimetype": "text/x-python",
   "name": "python",
   "nbconvert_exporter": "python",
   "pygments_lexer": "ipython3",
   "version": "3.10.0"
  }
 },
 "nbformat": 4,
 "nbformat_minor": 5
}
