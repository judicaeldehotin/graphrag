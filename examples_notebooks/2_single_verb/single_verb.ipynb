{
 "cells": [
  {
   "cell_type": "code",
   "execution_count": 1,
   "id": "d57134d1-4c43-4aa0-91a7-5c64142b123a",
   "metadata": {},
   "outputs": [],
   "source": [
    "# Copyright (c) 2024 Microsoft Corporation.\n",
    "# Licensed under the MIT License"
   ]
  },
  {
   "cell_type": "markdown",
   "id": "5fd64b86-a1aa-4f80-a39c-83bf6c5fb5f0",
   "metadata": {},
   "source": [
    "### verb\n",
    "#### init csv file"
   ]
  },
  {
   "cell_type": "code",
   "execution_count": 2,
   "id": "f804784d-b472-4cf6-b476-94169f17ab92",
   "metadata": {},
   "outputs": [],
   "source": [
    "# our fake dataset\n",
    "\n",
    "import pandas as pd\n",
    "import os\n",
    "\n",
    "dataset = pd.DataFrame([{\"col1\": 2, \"col2\": 4}, {\"col1\": 5, \"col2\": 10}])\n",
    "\n",
    "if not os.path.exists('input'):\n",
    "    os.makedirs('input')\n",
    "dataset.to_csv('input/dataset.csv', index=False)"
   ]
  },
  {
   "cell_type": "markdown",
   "id": "e4e6df6e-6d87-4973-9c06-e8b7d74a5d98",
   "metadata": {},
   "source": [
    "#### file create pipeline  verb "
   ]
  },
  {
   "cell_type": "code",
   "execution_count": 3,
   "id": "ece39dae-91d4-476f-90e3-9641f615fabf",
   "metadata": {},
   "outputs": [],
   "source": [
    "import pandas as pd\n",
    "\n",
    "from pathlib import Path\n",
    "\n",
    "PIPELINE_YAML = \"\"\"\n",
    "input:\n",
    "  file_type: csv\n",
    "  base_dir: ./input\n",
    "  file_pattern: .*\\.csv$\n",
    "workflows:\n",
    "  - steps:\n",
    "      - verb: derive # https://github.com/microsoft/datashaper/blob/main/python/datashaper/datashaper/engine/verbs/derive.py\n",
    "        args:\n",
    "          column1: \"col1\"\n",
    "          column2: \"col2\"\n",
    "          to: \"col_multiplied\"\n",
    "          operator: \"*\"\n",
    "\n",
    "\"\"\"\n",
    "pipeline_file =  Path().cwd() / \"pipeline.yaml\"\n",
    "with pipeline_file.open(\"w\") as file:\n",
    "    file.write(PIPELINE_YAML)\n",
    "    "
   ]
  },
  {
   "cell_type": "code",
   "execution_count": 4,
   "id": "eb9502e5-7227-46b4-b6ed-ed2a46692de1",
   "metadata": {},
   "outputs": [
    {
     "data": {
      "text/plain": [
       "'/media/gpt4-pdf-chatbot-langchain/graphrag/examples_notebooks/2_single_verb/pipeline.yaml'"
      ]
     },
     "execution_count": 4,
     "metadata": {},
     "output_type": "execute_result"
    }
   ],
   "source": [
    "# Load your config without the input section\n",
    "config_path = str(pipeline_file)\n",
    "config_path"
   ]
  },
  {
   "cell_type": "markdown",
   "id": "0d41ddb8-f26d-41ec-bfb3-63b8af625d3e",
   "metadata": {},
   "source": [
    "#### start pipeline workflow verb"
   ]
  },
  {
   "cell_type": "code",
   "execution_count": 5,
   "id": "ba79d508-0c01-4696-9f92-7ae688e8aa64",
   "metadata": {},
   "outputs": [
    {
     "name": "stdout",
     "output_type": "stream",
     "text": [
      "   col1  col2  col_multiplied\n",
      "0     2     4               8\n",
      "1     5    10              50\n"
     ]
    }
   ],
   "source": [
    "from graphrag.index import run_pipeline_with_config\n",
    "tables = []\n",
    "async for table in run_pipeline_with_config(\n",
    "    config_or_path=config_path, dataset=dataset\n",
    "):\n",
    "    tables.append(table)\n",
    "pipeline_result = tables[-1]\n",
    "\n",
    "if pipeline_result.result is not None:\n",
    "    # Should look something like this, which should be identical to the python example:\n",
    "    #    col1  col2  col_multiplied\n",
    "    # 0     2     4               8\n",
    "    # 1     5    10              50\n",
    "    print(pipeline_result.result)\n",
    "else:\n",
    "    print(\"No results!\")"
   ]
  },
  {
   "cell_type": "markdown",
   "id": "2eea60aa-a982-49e7-9f43-e2b2ef2982e2",
   "metadata": {},
   "source": [
    "#### use Python API verbs pipeline "
   ]
  },
  {
   "cell_type": "code",
   "execution_count": 6,
   "id": "483696b7-35f9-4aee-8eec-b26fd6337298",
   "metadata": {},
   "outputs": [],
   "source": [
    "from graphrag.index.config import PipelineWorkflowReference\n",
    "\"\"\"Run a pipeline using the python API\"\"\"\n",
    "workflows: list[PipelineWorkflowReference] = [\n",
    "    PipelineWorkflowReference(\n",
    "        steps=[\n",
    "            {\n",
    "                # built-in verb\n",
    "                \"verb\": \"derive\",  # https://github.com/microsoft/datashaper/blob/main/python/datashaper/datashaper/engine/verbs/derive.py\n",
    "                \"args\": {\n",
    "                    \"column1\": \"col1\",  # from above\n",
    "                    \"column2\": \"col2\",  # from above\n",
    "                    \"to\": \"col_multiplied\",  # new column name\n",
    "                    \"operator\": \"*\",  # multiply the two columns\n",
    "                },\n",
    "                # Since we're trying to act on the default input, we don't need explicitly to specify an input\n",
    "            }\n",
    "        ]\n",
    "    ),\n",
    "]\n"
   ]
  },
  {
   "cell_type": "markdown",
   "id": "454f80cb-8e1b-4816-826e-c70d69169cf9",
   "metadata": {},
   "source": [
    "##### Run the pipeline"
   ]
  },
  {
   "cell_type": "code",
   "execution_count": 7,
   "id": "4fbe6e8c-3afc-4233-92ad-ba7473d61a66",
   "metadata": {},
   "outputs": [
    {
     "name": "stdout",
     "output_type": "stream",
     "text": [
      "   col1  col2  col_multiplied\n",
      "0     2     4               8\n",
      "1     5    10              50\n"
     ]
    }
   ],
   "source": [
    "from graphrag.index import run_pipeline\n",
    "# Grab the last result from the pipeline, should be our entity extraction\n",
    "tables = []\n",
    "async for table in run_pipeline(dataset=dataset, workflows=workflows):\n",
    "    tables.append(table)\n",
    "pipeline_result = tables[-1]\n",
    "\n",
    "if pipeline_result.result is not None:\n",
    "    # Should look something like this:\n",
    "    #    col1  col2  col_multiplied\n",
    "    # 0     2     4               8\n",
    "    # 1     5    10              50\n",
    "    print(pipeline_result.result)\n",
    "else:\n",
    "    print(\"No results!\")"
   ]
  },
  {
   "cell_type": "code",
   "execution_count": null,
   "id": "13d6b241-7a1d-4366-ade2-eaf255caf772",
   "metadata": {},
   "outputs": [],
   "source": []
  }
 ],
 "metadata": {
  "kernelspec": {
   "display_name": "Python 3 (ipykernel)",
   "language": "python",
   "name": "python3"
  },
  "language_info": {
   "codemirror_mode": {
    "name": "ipython",
    "version": 3
   },
   "file_extension": ".py",
   "mimetype": "text/x-python",
   "name": "python",
   "nbconvert_exporter": "python",
   "pygments_lexer": "ipython3",
   "version": "3.10.0"
  }
 },
 "nbformat": 4,
 "nbformat_minor": 5
}
