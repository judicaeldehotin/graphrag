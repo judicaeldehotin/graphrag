{
 "cells": [
  {
   "cell_type": "code",
   "execution_count": 1,
   "id": "88016737-040c-4993-8906-0eafc5a0fef3",
   "metadata": {},
   "outputs": [],
   "source": [
    "# Copyright (c) 2024 Microsoft Corporation.\n",
    "# Licensed under the MIT License"
   ]
  },
  {
   "cell_type": "markdown",
   "id": "34301487-c06a-44a2-ad98-238e3632913f",
   "metadata": {},
   "source": [
    "### workflow custom\n",
    "\n",
    "#### difine workflow   my_workflow and my_unused_workflow\n",
    "Sets up the list of custom workflows that can be used in a pipeline\n",
    "The idea being that you can have a pool of workflows that can be used in any number of\n",
    "your pipelines"
   ]
  },
  {
   "cell_type": "code",
   "execution_count": 2,
   "id": "e7473a77-ae7d-47e9-8ff5-7e80e1c55b74",
   "metadata": {},
   "outputs": [],
   "source": [
    "import pandas as pd\n",
    "# our fake dataset\n",
    "dataset = pd.DataFrame([{\"col1\": 2, \"col2\": 4}, {\"col1\": 5, \"col2\": 10}])\n",
    "\n"
   ]
  },
  {
   "cell_type": "code",
   "execution_count": 3,
   "id": "9f14f948-8721-44f5-992c-50a0d4cb8594",
   "metadata": {},
   "outputs": [],
   "source": [
    "# Copyright (c) 2024 Microsoft Corporation.\n",
    "# Licensed under the MIT License\n",
    "from graphrag.index.workflows import WorkflowDefinitions\n",
    "  \n",
    "custom_workflows: WorkflowDefinitions = {\n",
    "    \"my_workflow\": lambda config: [\n",
    "        {\n",
    "            \"verb\": \"derive\",\n",
    "            \"args\": {\n",
    "                \"column1\": \"col1\",  # looks for col1 in the dataset\n",
    "                \"column2\": \"col2\",  # looks for col2 in the dataset\n",
    "                \"to\": config.get(\n",
    "                    # Allow the user to specify the output column name,\n",
    "                    # otherwise default to \"output_column\"\n",
    "                    \"derive_output_column\",\n",
    "                    \"output_column\",\n",
    "                ),  # new column name,\n",
    "                \"operator\": \"*\",\n",
    "            },\n",
    "        }\n",
    "    ],\n",
    "    \"my_unused_workflow\": lambda _config: [\n",
    "        {\n",
    "            \"verb\": \"derive\",\n",
    "            \"args\": {\n",
    "                \"column1\": \"col1\",  # looks for col1 in the dataset\n",
    "                \"column2\": \"col2\",  # looks for col2 in the dataset\n",
    "                \"to\": \"unused_output_column\",\n",
    "                \"operator\": \"*\",\n",
    "            },\n",
    "        }\n",
    "    ],\n",
    "}\n"
   ]
  },
  {
   "cell_type": "markdown",
   "id": "646d59e9-ac92-4c5f-b2fa-8eebf79d0709",
   "metadata": {},
   "source": [
    "#### create pipeline workflows file"
   ]
  },
  {
   "cell_type": "code",
   "execution_count": 4,
   "id": "a7d06df8-1afb-47da-8756-1f6d3f481896",
   "metadata": {},
   "outputs": [],
   "source": [
    "\n",
    "\n",
    "from pathlib import Path\n",
    "\n",
    "PIPELINE_YAML = \"\"\"\n",
    "workflows:\n",
    "  - name: my_workflow\n",
    "    config:\n",
    "      derive_output_column: \"col_1_multiplied\" \n",
    "\n",
    "\"\"\"\n",
    "pipeline_file =  Path().cwd() / \"pipeline.yaml\"\n",
    "with pipeline_file.open(\"w\") as file:\n",
    "    file.write(PIPELINE_YAML)\n",
    "    "
   ]
  },
  {
   "cell_type": "code",
   "execution_count": 5,
   "id": "0c560b19-8c76-48f2-8d11-449e6ae19957",
   "metadata": {},
   "outputs": [
    {
     "data": {
      "text/plain": [
       "'/media/gpt4-pdf-chatbot-langchain/graphrag/examples_notebooks/4_custom_set_of_available_workflows/pipeline.yaml'"
      ]
     },
     "execution_count": 5,
     "metadata": {},
     "output_type": "execute_result"
    }
   ],
   "source": [
    "# Load your config without the input section\n",
    "config_path = str(pipeline_file)\n",
    "config_path"
   ]
  },
  {
   "cell_type": "markdown",
   "id": "4a06ebf9-6df7-41cb-9505-eaffd143e229",
   "metadata": {},
   "source": [
    "#### Grab the last result from the pipeline, should be our entity extraction"
   ]
  },
  {
   "cell_type": "code",
   "execution_count": 6,
   "id": "8c2a13ae-535b-4172-9e22-b19719e4e28e",
   "metadata": {},
   "outputs": [
    {
     "name": "stdout",
     "output_type": "stream",
     "text": [
      "   col1  col2  col_1_multiplied\n",
      "0     2     4                 8\n",
      "1     5    10                50\n"
     ]
    }
   ],
   "source": [
    "from graphrag.index import run_pipeline_with_config\n",
    "\n",
    "tables = []\n",
    "async for table in run_pipeline_with_config(\n",
    "    config_or_path=config_path,\n",
    "    dataset=dataset,\n",
    "    additional_workflows=custom_workflows,\n",
    "):\n",
    "    tables.append(table)\n",
    "pipeline_result = tables[-1]\n",
    "\n",
    "if pipeline_result.result is not None:\n",
    "    # Should look something like this:\n",
    "    #    col1  col2  col_1_multiplied\n",
    "    # 0     2     4                 8\n",
    "    # 1     5    10                50\n",
    "    print(pipeline_result.result)\n",
    "else:\n",
    "    print(\"No results!\")"
   ]
  },
  {
   "cell_type": "markdown",
   "id": "af3e328b-9639-434d-a87f-a65e68708faf",
   "metadata": {},
   "source": [
    "#### use Python API custom_workflow_definitions my_workflow "
   ]
  },
  {
   "cell_type": "code",
   "execution_count": 7,
   "id": "0fe15b87-d448-4948-8888-c7bf9cc71d94",
   "metadata": {},
   "outputs": [],
   "source": [
    "\n",
    "from graphrag.index.config import PipelineWorkflowReference\n",
    "\"\"\"Run a pipeline using the python API\"\"\"\n",
    "# Define the actual workflows to be run, this is identical to the python api\n",
    "# but we're defining the workflows to be run via python instead of via a config file\n",
    "workflows: list[PipelineWorkflowReference] = [\n",
    "    # run my_workflow against the dataset, notice we're only using the \"my_workflow\" workflow\n",
    "    # and not the \"my_unused_workflow\" workflow\n",
    "    PipelineWorkflowReference(\n",
    "        name=\"my_workflow\",  # should match the name of the workflow in the custom_workflows dict above\n",
    "        config={  # pass in a config\n",
    "            # set the derive_output_column to be \"col_1_multiplied\",  this will be passed to the workflow definition above\n",
    "            \"derive_output_column\": \"col_1_multiplied\"\n",
    "        },\n",
    "    ),\n",
    "]\n"
   ]
  },
  {
   "cell_type": "markdown",
   "id": "c1b1d7ba-c72b-40ee-bcbb-186a2d88a64f",
   "metadata": {},
   "source": [
    "##### Run the pipeline"
   ]
  },
  {
   "cell_type": "code",
   "execution_count": 8,
   "id": "eaf35455-f08e-48b9-ba04-5b1cab49e037",
   "metadata": {},
   "outputs": [
    {
     "name": "stdout",
     "output_type": "stream",
     "text": [
      "   col1  col2  col_1_multiplied\n",
      "0     2     4                 8\n",
      "1     5    10                50\n"
     ]
    }
   ],
   "source": [
    "from graphrag.index import run_pipeline\n",
    "\n",
    "\n",
    "# Grab the last result from the pipeline, should be our entity extraction\n",
    "tables = []\n",
    "async for table in run_pipeline(\n",
    "    workflows, dataset=dataset, additional_workflows=custom_workflows\n",
    "):\n",
    "    tables.append(table)\n",
    "pipeline_result = tables[-1]\n",
    "\n",
    "if pipeline_result.result is not None:\n",
    "    # Should look something like this:\n",
    "    #    col1  col2  col_1_multiplied\n",
    "    # 0     2     4                 8\n",
    "    # 1     5    10                50\n",
    "    print(pipeline_result.result)\n",
    "else:\n",
    "    print(\"No results!\")\n"
   ]
  },
  {
   "cell_type": "code",
   "execution_count": null,
   "id": "d846f6bc-5f30-440e-97cd-6dae9109f3c1",
   "metadata": {},
   "outputs": [],
   "source": []
  }
 ],
 "metadata": {
  "kernelspec": {
   "display_name": "Python 3 (ipykernel)",
   "language": "python",
   "name": "python3"
  },
  "language_info": {
   "codemirror_mode": {
    "name": "ipython",
    "version": 3
   },
   "file_extension": ".py",
   "mimetype": "text/x-python",
   "name": "python",
   "nbconvert_exporter": "python",
   "pygments_lexer": "ipython3",
   "version": "3.10.0"
  }
 },
 "nbformat": 4,
 "nbformat_minor": 5
}
