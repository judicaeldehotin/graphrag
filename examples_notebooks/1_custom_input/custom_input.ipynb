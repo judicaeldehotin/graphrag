{
 "cells": [
  {
   "cell_type": "code",
   "execution_count": 1,
   "id": "6e83a1d7-188a-4d4f-84ea-f3296717a2ae",
   "metadata": {},
   "outputs": [],
   "source": [
    "# Copyright (c) 2024 Microsoft Corporation.\n",
    "# Licensed under the MIT License"
   ]
  },
  {
   "cell_type": "markdown",
   "id": "212e0580-4ba6-494e-a08c-51350853fb5f",
   "metadata": {},
   "source": [
    "### pipeline Examples custom input\n",
    "#### use file create pipeline fill  verb"
   ]
  },
  {
   "cell_type": "code",
   "execution_count": 2,
   "id": "5293ca28-86c9-4909-9404-b9994897f8de",
   "metadata": {
    "ExecuteTime": {
     "end_time": "2024-07-09T06:34:39.556635Z",
     "start_time": "2024-07-09T06:34:39.550745Z"
    }
   },
   "outputs": [],
   "source": [
    "import pandas as pd\n",
    "\n",
    "from pathlib import Path\n",
    "\n",
    "PIPELINE_YAML = \"\"\"\n",
    "\n",
    "# Setup reporting however you'd like\n",
    "reporting:\n",
    "  type: console\n",
    "\n",
    "# Setup storage however you'd like\n",
    "storage:\n",
    "  type: memory\n",
    "\n",
    "# Setup cache however you'd like\n",
    "cache: \n",
    "  type: memory\n",
    "\n",
    "# Just a simple workflow\n",
    "workflows:\n",
    "\n",
    "  # This is an anonymous workflow, it doesn't have a name\n",
    "  - steps:\n",
    "\n",
    "    # Unpack the nodes from the graph\n",
    "    - verb: fill\n",
    "      args:\n",
    "        to: filled_column\n",
    "        value: \"Filled Value\"\n",
    "\"\"\"\n",
    "pipeline_file =  Path().cwd() / \"pipeline.yaml\"\n",
    "with pipeline_file.open(\"w\") as file:\n",
    "    file.write(PIPELINE_YAML)\n",
    "    "
   ]
  },
  {
   "cell_type": "markdown",
   "id": "e7c70c54-6f64-4360-9756-a1fe04a098a1",
   "metadata": {},
   "source": [
    "#### Load dataset with  verb fill "
   ]
  },
  {
   "cell_type": "code",
   "execution_count": 3,
   "id": "9778f886-d572-4d4f-bf01-1cdf09fadd41",
   "metadata": {},
   "outputs": [],
   "source": [
    "\n",
    "def _load_dataset_some_unique_way() -> pd.DataFrame:\n",
    "    # Totally loaded from some other place\n",
    "    return pd.DataFrame([{\"col1\": 2, \"col2\": 4}, {\"col1\": 5, \"col2\": 10}])\n",
    "# Load your dataset\n",
    "dataset = _load_dataset_some_unique_way()"
   ]
  },
  {
   "cell_type": "code",
   "execution_count": 4,
   "id": "19a1f4dd-ed51-46ff-bda7-ae10c2c2b41f",
   "metadata": {},
   "outputs": [],
   "source": [
    "\n",
    "# Load your config without the input section\n",
    "config = str(pipeline_file)"
   ]
  },
  {
   "cell_type": "code",
   "execution_count": 5,
   "id": "a9fb4e4e-69f7-4f98-8c00-d60e0c748ffe",
   "metadata": {},
   "outputs": [
    {
     "name": "stdout",
     "output_type": "stream",
     "text": [
      "   col1  col2 filled_column\n",
      "0     2     4  Filled Value\n",
      "1     5    10  Filled Value\n"
     ]
    }
   ],
   "source": [
    "\n",
    "from graphrag.index import run_pipeline_with_config\n",
    "\n",
    "\n",
    "# Grab the last result from the pipeline, should be our entity extraction\n",
    "outputs = []\n",
    "async for output in run_pipeline_with_config(\n",
    "    config_or_path=config, dataset=dataset\n",
    "):\n",
    "    outputs.append(output)\n",
    "pipeline_result = outputs[-1]\n",
    "\n",
    "if pipeline_result.result is not None:\n",
    "    # Should look something like\n",
    "    #            col1  col2 filled_column\n",
    "    # 0     2     4  Filled Value\n",
    "    # 1     5    10  Filled Value\n",
    "    print(pipeline_result.result)\n",
    "else:\n",
    "    print(\"No results!\")"
   ]
  },
  {
   "cell_type": "markdown",
   "id": "ef9a3bb7-fa46-4bb9-a0e7-fdc9ef8628c3",
   "metadata": {},
   "source": [
    "#### use Python API create pipeline  derive  verb"
   ]
  },
  {
   "cell_type": "code",
   "execution_count": 6,
   "id": "c1537a51-cf2a-4eaa-af55-c7239f1f4ad7",
   "metadata": {},
   "outputs": [],
   "source": [
    "\n",
    "from graphrag.index import run_pipeline\n",
    "from graphrag.index.config import PipelineWorkflowReference\n",
    "\n",
    "workflows: list[PipelineWorkflowReference] = [\n",
    "    PipelineWorkflowReference(\n",
    "        steps=[\n",
    "            {\n",
    "                # built-in verb\n",
    "                \"verb\": \"derive\",  # https://github.com/microsoft/datashaper/blob/main/python/datashaper/datashaper/engine/verbs/derive.py\n",
    "                \"args\": {\n",
    "                    \"column1\": \"col1\",  # from above\n",
    "                    \"column2\": \"col2\",  # from above\n",
    "                    \"to\": \"col_multiplied\",  # new column name\n",
    "                    \"operator\": \"*\",  # multiply the two columns\n",
    "                },\n",
    "                # Since we're trying to act on the default input, we don't need explicitly to specify an input\n",
    "            }\n",
    "        ]\n",
    "    ),\n",
    "]\n"
   ]
  },
  {
   "cell_type": "markdown",
   "id": "c746d751-b384-4ab5-a220-1688cf66a44b",
   "metadata": {},
   "source": [
    "#### Load dataset with  verb derive  "
   ]
  },
  {
   "cell_type": "code",
   "execution_count": 7,
   "id": "efe1048e-a4e8-415a-8448-e9579444b77f",
   "metadata": {},
   "outputs": [],
   "source": [
    "\n",
    "dataset = pd.DataFrame([{\"col1\": 2, \"col2\": 4}, {\"col1\": 5, \"col2\": 10}])\n"
   ]
  },
  {
   "cell_type": "code",
   "execution_count": 8,
   "id": "afb0a67d-484b-4d46-a48d-e208cd3b8368",
   "metadata": {},
   "outputs": [
    {
     "name": "stdout",
     "output_type": "stream",
     "text": [
      "PipelineRunResult(workflow='Anonymous Workflow 1', result=   col1  col2  col_multiplied\n",
      "0     2     4               8\n",
      "1     5    10              50, errors=None)\n"
     ]
    }
   ],
   "source": [
    "outputs = []\n",
    "async for output in run_pipeline(dataset=dataset, workflows=workflows):\n",
    "    outputs.append(output)\n",
    "pipeline_result = outputs[-1]\n",
    "print(pipeline_result)"
   ]
  },
  {
   "cell_type": "code",
   "execution_count": null,
   "id": "04398dfc-4e64-437e-969b-1e2ef299f71c",
   "metadata": {},
   "outputs": [],
   "source": []
  }
 ],
 "metadata": {
  "kernelspec": {
   "display_name": "Python 3 (ipykernel)",
   "language": "python",
   "name": "python3"
  },
  "language_info": {
   "codemirror_mode": {
    "name": "ipython",
    "version": 3
   },
   "file_extension": ".py",
   "mimetype": "text/x-python",
   "name": "python",
   "nbconvert_exporter": "python",
   "pygments_lexer": "ipython3",
   "version": "3.10.0"
  }
 },
 "nbformat": 4,
 "nbformat_minor": 5
}
