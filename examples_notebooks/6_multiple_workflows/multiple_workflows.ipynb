{
 "cells": [
  {
   "cell_type": "code",
   "execution_count": 1,
   "id": "eb944fd5-738c-44e0-8270-4d13ad53a6ed",
   "metadata": {},
   "outputs": [],
   "source": [
    "# Copyright (c) 2024 Microsoft Corporation.\n",
    "# Licensed under the MIT License"
   ]
  },
  {
   "cell_type": "markdown",
   "id": "2e21a3ae-b8d0-468c-85dc-502d7de11278",
   "metadata": {},
   "source": [
    "### multiple_workflows\n",
    "#### create pipeline workflows file1"
   ]
  },
  {
   "cell_type": "code",
   "execution_count": 2,
   "id": "4653ee75-b6ac-4012-8966-c20a71f250a3",
   "metadata": {},
   "outputs": [],
   "source": [
    "import pandas as pd\n",
    "import os \n",
    "from pathlib import Path\n",
    "\n",
    "workflow_dir = os.path.join(\n",
    "    Path().cwd(), \"workflows/\"\n",
    ")\n",
    "if not os.path.exists(workflow_dir):\n",
    "    os.makedirs(workflow_dir)\n",
    "\n",
    "\n",
    "PIPELINE_YAML = \"\"\"\n",
    "name: workflow_1\n",
    "steps:\n",
    "  - verb: fill\n",
    "    args:\n",
    "      to: \"col_workflow_1\"\n",
    "      value: 1\n",
    "\n",
    " \n",
    "\"\"\"\n",
    "pipeline_file = Path(workflow_dir) / \"workflow_1.yml\"\n",
    "with pipeline_file.open(\"w\") as file:\n",
    "    file.write(PIPELINE_YAML)\n",
    "    \n"
   ]
  },
  {
   "cell_type": "markdown",
   "id": "69943720-c9d0-4451-a003-078ded9ea56e",
   "metadata": {},
   "source": [
    "#### create pipeline workflows file2"
   ]
  },
  {
   "cell_type": "code",
   "execution_count": 3,
   "id": "553f7eea-9a00-4e95-aeaa-517d1d72a66e",
   "metadata": {},
   "outputs": [
    {
     "data": {
      "text/plain": [
       "'/media/gpt4-pdf-chatbot-langchain/graphrag/examples_notebooks/6_multiple_workflows/workflows/shared'"
      ]
     },
     "execution_count": 3,
     "metadata": {},
     "output_type": "execute_result"
    }
   ],
   "source": [
    "import pandas as pd\n",
    "import os \n",
    "from pathlib import Path\n",
    " \n",
    "\n",
    "PIPELINE_YAML = \"\"\"\n",
    "name: workflow_2\n",
    "steps:\n",
    "  - verb: fill\n",
    "    args:\n",
    "      to: \"col_workflow_2\"\n",
    "      value: 2\n",
    "    input: \n",
    "\n",
    "      # workflow_2 is dependent on workflow_1\n",
    "      # so in workflow_2 output, you'll also see the output from workflow_1\n",
    "      source: \"workflow:workflow_1\"\n",
    "\n",
    "  # Example of pulling in values from a shared file\n",
    "  - verb: fill\n",
    "    args:\n",
    "      to: \"col_from_shared_file\"\n",
    "      value: !include ./shared/shared_fill_value.txt\n",
    "\n",
    "\n",
    " \n",
    "\"\"\"\n",
    "pipeline_file = Path(workflow_dir) / \"workflow_2.yml\"\n",
    "with pipeline_file.open(\"w\") as file:\n",
    "    file.write(PIPELINE_YAML)\n",
    "    \n",
    "\n",
    "workflow_shared_dir = os.path.join(\n",
    "    Path().cwd(), \"workflows/shared\"\n",
    ")\n",
    "if not os.path.exists(workflow_shared_dir):\n",
    "    os.makedirs(workflow_shared_dir)\n",
    "\n",
    "\n",
    "PIPELINE_shared_file = \"\"\"value_from_shared_file\n",
    "\"\"\"\n",
    "\n",
    "workflow_shared_file = Path(workflow_shared_dir) / \"shared_fill_value.txt\"\n",
    "with workflow_shared_file.open(\"w\") as file:\n",
    "    file.write(PIPELINE_shared_file)\n",
    "    \n",
    "workflow_shared_dir\n"
   ]
  },
  {
   "cell_type": "markdown",
   "id": "9ef1af5f-68cf-442f-9225-62aa8d3b6659",
   "metadata": {},
   "source": [
    "#### create pipeline workflows file3"
   ]
  },
  {
   "cell_type": "code",
   "execution_count": 4,
   "id": "52fe4cb0-fc1b-416e-b1cb-ed9cce068259",
   "metadata": {},
   "outputs": [],
   "source": [
    "import pandas as pd\n",
    "import os \n",
    "from pathlib import Path\n",
    " \n",
    "\n",
    "\n",
    "PIPELINE_YAML = \"\"\"\n",
    "name: workflow_3\n",
    "steps:\n",
    "  - verb: fill\n",
    "    args:\n",
    "      to: \"col_workflow_3\"\n",
    "      value: 3\n",
    "\n",
    " \n",
    "\"\"\"\n",
    "pipeline_file = Path(workflow_dir) / \"workflow_3.yml\"\n",
    "with pipeline_file.open(\"w\") as file:\n",
    "    file.write(PIPELINE_YAML)\n",
    "    \n"
   ]
  },
  {
   "cell_type": "markdown",
   "id": "bf4696e5-5a5d-4964-9ca6-29240e8e0008",
   "metadata": {},
   "source": [
    "#### The workflows section in this configuration file includes three workflow files. Each workflow file is referenced using the !include syntax."
   ]
  },
  {
   "cell_type": "code",
   "execution_count": 5,
   "id": "686f685b-4daf-40b5-b55d-3a57637f0021",
   "metadata": {},
   "outputs": [],
   "source": [
    "\n",
    "\n",
    "PIPELINE_YAML = \"\"\"\n",
    "workflows:\n",
    "  - !include workflows/workflow_1.yml\n",
    "  - !include workflows/workflow_2.yml\n",
    "  - !include workflows/workflow_3.yml\n",
    " \n",
    "\"\"\"\n",
    "pipeline_file =  Path().cwd() / \"pipeline.yaml\"\n",
    "with pipeline_file.open(\"w\") as file:\n",
    "    file.write(PIPELINE_YAML)\n",
    "    "
   ]
  },
  {
   "cell_type": "markdown",
   "id": "a85af50d-e4ff-4552-84af-b6656d508346",
   "metadata": {},
   "source": [
    "#### init csv file"
   ]
  },
  {
   "cell_type": "code",
   "execution_count": 6,
   "id": "a52874f2-4cb5-483a-8134-a7938990434b",
   "metadata": {},
   "outputs": [
    {
     "data": {
      "text/plain": [
       "'/media/gpt4-pdf-chatbot-langchain/graphrag/examples_notebooks/6_multiple_workflows/input/'"
      ]
     },
     "execution_count": 6,
     "metadata": {},
     "output_type": "execute_result"
    }
   ],
   "source": [
    "# our fake dataset\n",
    "import asyncio\n",
    "from pathlib import Path\n",
    "import pandas as pd\n",
    "import os\n",
    "from graphrag.index.config import PipelineCSVInputConfig\n",
    "from graphrag.index.input import load_input\n",
    "init_dataset = pd.DataFrame([{\"author\": \"aufsnn\", \n",
    "                         \"message\": \"Apple Inc. is an American multinational technology company headquartered in Cupertino, California. Tim Cook is the CEO of Apple.\",\n",
    "                         \"date(yyyyMMddHHmmss)\": \"20240709182511\"\n",
    "                        },\n",
    "                        {\"author\": \"dmeck\", \n",
    "                         \"message\": \"hello!\", \n",
    "                         \"date(yyyyMMddHHmmss)\": \"20240709182511\"}])\n",
    "\n",
    "sample_data_dir = os.path.join(\n",
    "    Path().cwd(), \"input/\"\n",
    ")\n",
    "if not os.path.exists(sample_data_dir):\n",
    "    os.makedirs(sample_data_dir)\n",
    "init_dataset.to_csv(f'{sample_data_dir}/dataset.csv', index=False)\n",
    "sample_data_dir"
   ]
  },
  {
   "cell_type": "code",
   "execution_count": 7,
   "id": "21174347-aa27-4af9-b8bd-b073a5523ad6",
   "metadata": {},
   "outputs": [
    {
     "data": {
      "text/html": [
       "<div>\n",
       "<style scoped>\n",
       "    .dataframe tbody tr th:only-of-type {\n",
       "        vertical-align: middle;\n",
       "    }\n",
       "\n",
       "    .dataframe tbody tr th {\n",
       "        vertical-align: top;\n",
       "    }\n",
       "\n",
       "    .dataframe thead th {\n",
       "        text-align: right;\n",
       "    }\n",
       "</style>\n",
       "<table border=\"1\" class=\"dataframe\">\n",
       "  <thead>\n",
       "    <tr style=\"text-align: right;\">\n",
       "      <th></th>\n",
       "      <th>author</th>\n",
       "      <th>message</th>\n",
       "      <th>date(yyyyMMddHHmmss)</th>\n",
       "      <th>id</th>\n",
       "      <th>source</th>\n",
       "      <th>text</th>\n",
       "      <th>title</th>\n",
       "      <th>timestamp</th>\n",
       "      <th>year</th>\n",
       "      <th>month</th>\n",
       "      <th>day</th>\n",
       "      <th>hour</th>\n",
       "      <th>minute</th>\n",
       "      <th>second</th>\n",
       "    </tr>\n",
       "  </thead>\n",
       "  <tbody>\n",
       "    <tr>\n",
       "      <th>0</th>\n",
       "      <td>aufsnn</td>\n",
       "      <td>Apple Inc. is an American multinational techno...</td>\n",
       "      <td>20240709182511</td>\n",
       "      <td>a9c886cbbc2905f65301a9215514ed0b</td>\n",
       "      <td>aufsnn</td>\n",
       "      <td>Apple Inc. is an American multinational techno...</td>\n",
       "      <td>Apple Inc. is an American multinational techno...</td>\n",
       "      <td>2024-07-09 18:25:11</td>\n",
       "      <td>2024</td>\n",
       "      <td>7</td>\n",
       "      <td>9</td>\n",
       "      <td>18</td>\n",
       "      <td>25</td>\n",
       "      <td>11</td>\n",
       "    </tr>\n",
       "    <tr>\n",
       "      <th>1</th>\n",
       "      <td>dmeck</td>\n",
       "      <td>hello!</td>\n",
       "      <td>20240709182511</td>\n",
       "      <td>409342b4e5e4bae7204236f4bf214055</td>\n",
       "      <td>dmeck</td>\n",
       "      <td>hello!</td>\n",
       "      <td>hello!</td>\n",
       "      <td>2024-07-09 18:25:11</td>\n",
       "      <td>2024</td>\n",
       "      <td>7</td>\n",
       "      <td>9</td>\n",
       "      <td>18</td>\n",
       "      <td>25</td>\n",
       "      <td>11</td>\n",
       "    </tr>\n",
       "  </tbody>\n",
       "</table>\n",
       "</div>"
      ],
      "text/plain": [
       "   author                                            message  \\\n",
       "0  aufsnn  Apple Inc. is an American multinational techno...   \n",
       "1   dmeck                                             hello!   \n",
       "\n",
       "   date(yyyyMMddHHmmss)                                id  source  \\\n",
       "0        20240709182511  a9c886cbbc2905f65301a9215514ed0b  aufsnn   \n",
       "1        20240709182511  409342b4e5e4bae7204236f4bf214055   dmeck   \n",
       "\n",
       "                                                text  \\\n",
       "0  Apple Inc. is an American multinational techno...   \n",
       "1                                             hello!   \n",
       "\n",
       "                                               title           timestamp  \\\n",
       "0  Apple Inc. is an American multinational techno... 2024-07-09 18:25:11   \n",
       "1                                             hello! 2024-07-09 18:25:11   \n",
       "\n",
       "   year  month  day  hour  minute  second  \n",
       "0  2024      7    9    18      25      11  \n",
       "1  2024      7    9    18      25      11  "
      ]
     },
     "execution_count": 7,
     "metadata": {},
     "output_type": "execute_result"
    }
   ],
   "source": [
    "\n",
    "shared_dataset = await load_input(\n",
    "        PipelineCSVInputConfig(\n",
    "            file_pattern=\".*\\\\.csv$\",\n",
    "            base_dir=sample_data_dir,\n",
    "            source_column=\"author\",\n",
    "            text_column=\"message\",\n",
    "            timestamp_column=\"date(yyyyMMddHHmmss)\",\n",
    "            timestamp_format=\"%Y%m%d%H%M%S\",\n",
    "            title_column=\"message\",\n",
    "        ),\n",
    "    )\n",
    "# We're cheap, and this is an example, lets just do 10\n",
    "dataset = shared_dataset.head(10)\n",
    "dataset"
   ]
  },
  {
   "cell_type": "code",
   "execution_count": 8,
   "id": "0350c679-2b37-41bb-b10c-2ea421c6d008",
   "metadata": {},
   "outputs": [
    {
     "data": {
      "text/plain": [
       "'/media/gpt4-pdf-chatbot-langchain/graphrag/examples_notebooks/6_multiple_workflows/pipeline.yaml'"
      ]
     },
     "execution_count": 8,
     "metadata": {},
     "output_type": "execute_result"
    }
   ],
   "source": [
    "\n",
    "# run the pipeline with the config, and override the dataset with the one we just created\n",
    "# and grab the last result from the pipeline, should be the last workflow that was run (our nodes)\n",
    "# Load your config without the input section\n",
    "pipeline_path = str(pipeline_file)\n",
    "pipeline_path"
   ]
  },
  {
   "cell_type": "code",
   "execution_count": 9,
   "id": "07f9ccd5-2b16-4db4-b985-c5636108b05d",
   "metadata": {},
   "outputs": [
    {
     "name": "stdout",
     "output_type": "stream",
     "text": [
      "Workflow workflow_1 result\n",
      ": \n",
      "   author                                            message  \\\n",
      "0  aufsnn  Apple Inc. is an American multinational techno...   \n",
      "1   dmeck                                             hello!   \n",
      "\n",
      "   date(yyyyMMddHHmmss)                                id  source  \\\n",
      "0        20240709182511  a9c886cbbc2905f65301a9215514ed0b  aufsnn   \n",
      "1        20240709182511  409342b4e5e4bae7204236f4bf214055   dmeck   \n",
      "\n",
      "                                                text  \\\n",
      "0  Apple Inc. is an American multinational techno...   \n",
      "1                                             hello!   \n",
      "\n",
      "                                               title           timestamp  \\\n",
      "0  Apple Inc. is an American multinational techno... 2024-07-09 18:25:11   \n",
      "1                                             hello! 2024-07-09 18:25:11   \n",
      "\n",
      "   year  month  day  hour  minute  second  col_workflow_1  \n",
      "0  2024      7    9    18      25      11               1  \n",
      "1  2024      7    9    18      25      11               1  \n",
      "Workflow workflow_3 result\n",
      ": \n",
      "   author                                            message  \\\n",
      "0  aufsnn  Apple Inc. is an American multinational techno...   \n",
      "1   dmeck                                             hello!   \n",
      "\n",
      "   date(yyyyMMddHHmmss)                                id  source  \\\n",
      "0        20240709182511  a9c886cbbc2905f65301a9215514ed0b  aufsnn   \n",
      "1        20240709182511  409342b4e5e4bae7204236f4bf214055   dmeck   \n",
      "\n",
      "                                                text  \\\n",
      "0  Apple Inc. is an American multinational techno...   \n",
      "1                                             hello!   \n",
      "\n",
      "                                               title           timestamp  \\\n",
      "0  Apple Inc. is an American multinational techno... 2024-07-09 18:25:11   \n",
      "1                                             hello! 2024-07-09 18:25:11   \n",
      "\n",
      "   year  month  day  hour  minute  second  col_workflow_3  \n",
      "0  2024      7    9    18      25      11               3  \n",
      "1  2024      7    9    18      25      11               3  \n",
      "Workflow workflow_2 result\n",
      ": \n",
      "   author                                            message  \\\n",
      "0  aufsnn  Apple Inc. is an American multinational techno...   \n",
      "1   dmeck                                             hello!   \n",
      "\n",
      "   date(yyyyMMddHHmmss)                                id  source  \\\n",
      "0        20240709182511  a9c886cbbc2905f65301a9215514ed0b  aufsnn   \n",
      "1        20240709182511  409342b4e5e4bae7204236f4bf214055   dmeck   \n",
      "\n",
      "                                                text  \\\n",
      "0  Apple Inc. is an American multinational techno...   \n",
      "1                                             hello!   \n",
      "\n",
      "                                               title           timestamp  \\\n",
      "0  Apple Inc. is an American multinational techno... 2024-07-09 18:25:11   \n",
      "1                                             hello! 2024-07-09 18:25:11   \n",
      "\n",
      "   year  month  day  hour  minute  second  col_workflow_1  col_workflow_2  \\\n",
      "0  2024      7    9    18      25      11               1               2   \n",
      "1  2024      7    9    18      25      11               1               2   \n",
      "\n",
      "       col_from_shared_file  \n",
      "0  value_from_shared_file\\n  \n",
      "1  value_from_shared_file\\n  \n"
     ]
    }
   ],
   "source": [
    "from graphrag.index import run_pipeline_with_config\n",
    "\n",
    "\n",
    "async for result in run_pipeline_with_config(pipeline_path, dataset=dataset):\n",
    "    print(f\"Workflow {result.workflow} result\\n: \")\n",
    "    print(result.result)"
   ]
  },
  {
   "cell_type": "code",
   "execution_count": null,
   "id": "e103b54d-7471-44bd-abb6-6c3de9883d1c",
   "metadata": {},
   "outputs": [],
   "source": []
  }
 ],
 "metadata": {
  "kernelspec": {
   "display_name": "Python 3 (ipykernel)",
   "language": "python",
   "name": "python3"
  },
  "language_info": {
   "codemirror_mode": {
    "name": "ipython",
    "version": 3
   },
   "file_extension": ".py",
   "mimetype": "text/x-python",
   "name": "python",
   "nbconvert_exporter": "python",
   "pygments_lexer": "ipython3",
   "version": "3.10.0"
  }
 },
 "nbformat": 4,
 "nbformat_minor": 5
}
